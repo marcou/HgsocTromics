{
 "cells": [
  {
   "cell_type": "code",
   "execution_count": null,
   "metadata": {},
   "outputs": [],
   "source": [
    "import numpy as np\n",
    "import pandas as pd\n",
    "import matplotlib.pyplot as plt\n",
    "import pickle\n",
    "% matplotlib inline\n",
    "\n",
    "import nimfa"
   ]
  },
  {
   "cell_type": "code",
   "execution_count": null,
   "metadata": {},
   "outputs": [],
   "source": [
    "def example_V(n_genes=100):\n",
    "    # Generate example expression matrix, useful in tests\n",
    "    np.random.seed(0)\n",
    "    time = np.linspace(0, 8, n_genes)\n",
    "\n",
    "    s1 = np.sin(time) + 1.1  # Signal 1 : sinusoidal signal\n",
    "    s2 = np.sign(np.sin(3 * time)) + 1.1  # Signal 2: square signal\n",
    "    s3 = np.sin(2 * np.pi * time) + 1.1  # Signal 3: saw tooth signal\n",
    "    s4 = np.cos(0.5 * np.pi * time) + 1.1  # Signal 4: cosine\n",
    "    s5 = np.sin(0.2 * np.pi * time) + 1.1  # Signal 5: higher freq sine\n",
    "\n",
    "    W = np.c_[s1, s2, s3, s4, s5]\n",
    "    W += 0.1 * np.random.normal(size=W.shape)  # Add noise\n",
    "\n",
    "    W /= W.std(axis=0)  # Standardize data\n",
    "    # Mix data\n",
    "    H = np.array([[1, 1, 1, 1, 1], [0.5, 0/6, 1, 1.2, 1], [1.5, 1, 2, 1, 1.1],\n",
    "                 [1, 0.4, 1, 1.1, 0.1], [1, 0.2, 0.8, 1, 1.5]])  # Mixing matrix\n",
    "    V = np.dot(W, H.T)  # Generate observations\n",
    "    return V\n",
    "\n",
    "def test_example_V():\n",
    "    ngenes = 10\n",
    "    eg_V = example_V(ngenes)\n",
    "    # print(eg_V.shape)\n",
    "    # print(eg_V)\n",
    "    assert eg_V.shape == (10, 5)\n",
    "    assert np.all(eg_V >= 0)\n",
    "    print(\"test_example_V() passed.\")\n",
    "    \n",
    "test_example_V()"
   ]
  },
  {
   "cell_type": "code",
   "execution_count": null,
   "metadata": {},
   "outputs": [],
   "source": [
    "def l2_norm_diff(m1, m2):\n",
    "#   return np.mean(np.sqrt((m1 - m2)**2))\n",
    "    return np.sqrt(np.mean((m1 - m2)**2))\n",
    "\n",
    "def test_l2_norm_diff():\n",
    "    V = example_V(10)\n",
    "    rms = l2_norm_diff(V, V+0.5)\n",
    "    assert np.isclose(rms,0.5)\n",
    "    \n",
    "test_l2_norm_diff() "
   ]
  },
  {
   "cell_type": "code",
   "execution_count": null,
   "metadata": {},
   "outputs": [],
   "source": [
    "# Read in AOCS spreadsheet\n",
    "expression_df = pd.read_csv('AOCS_TPM_VST.csv')\n",
    "\n",
    "assert len(expression_df) == 57914\n",
    "assert len(expression_df.columns == 80 + 1)\n",
    "assert expression_df.columns[0] == 'GeneENSG'\n",
    "assert expression_df.columns[-1] == 'AOCS_171'\n",
    "\n",
    "expression_matrix = np.asarray(expression_df.iloc[:,1:])\n",
    "\n",
    "print(expression_matrix.shape[0], \"genes\")\n",
    "print(expression_matrix.shape[1], \"patients\")"
   ]
  },
  {
   "cell_type": "code",
   "execution_count": null,
   "metadata": {},
   "outputs": [],
   "source": [
    "\n",
    "def run(V, nimfa_method, max_iter, n_run, pickle_name):\n",
    "    print(\"Running for %s, to %s\" % (str(nimfa_method), pickle_name))\n",
    "    results_dict = {}\n",
    "    for n_components in range(2,31):\n",
    "        # Factorization will be run 3 times (n_run) and factors will be tracked for computing\n",
    "        # cophenetic correlation. Note increased time and space complexity\n",
    "        model = nimfa_method(V, seed='random_vcol', max_iter=max_iter, rank=n_components, n_run=n_run , track_factor=True)\n",
    "        model_fit = model()\n",
    "        sm = model_fit.summary()\n",
    "        print('Components: %d, Rss: %5.3f, Evar: %5.3f, Iterations: %d, Cophenetic correlation:%5.3f, K-L divergence: %5.3f' % \n",
    "              (n_components, sm['rss'], sm['evar'], sm['n_iter'], sm['cophenetic'], model_fit.distance(metric='kl')))\n",
    "        results_dict[n_components] = sm\n",
    "    with open(pickle_name, 'wb') as f:\n",
    "        pickle.dump(results_dict, f)\n",
    "    print(pickle_name, \"done.\")\n",
    "\n",
    "if False:\n",
    "    run(expression_matrix, nimfa.Lsnmf, 20, 50, 'Lsnmf.pkl')\n",
    "    # run(expression_matrix, nimfa.Icm, 20, 50, 'Icm.pkl')\n",
    "    run(expression_matrix, nimfa.Bmf, 20, 50, 'Bmf.pkl')\n",
    "    run(expression_matrix, nimfa.Nmf, 200, 10, 'Nmf.pkl')\n"
   ]
  },
  {
   "cell_type": "code",
   "execution_count": null,
   "metadata": {},
   "outputs": [],
   "source": [
    "lsnmf = nimfa.Lsnmf(expression_matrix, seed='random_vcol', max_iter=20, rank=3, track_error=True)\n",
    "lsnmf_fit = lsnmf()\n",
    "\n",
    "W = lsnmf_fit.basis()\n",
    "print('Basis matrix:\\n%s' % W)\n",
    "\n",
    "H = lsnmf_fit.coef()\n",
    "print('Mixture matrix:\\n%s' % H)\n",
    "\n",
    "r = lsnmf.estimate_rank(rank_range=[2,3,4], what=['rss', 'cophenetic'])\n",
    "pp_r = '\\n'.join('%d: %5.3f' % (rank, vals['rss']) for rank, vals in r.items())\n",
    "print('Rank estimate:\\n%s' % pp_r)"
   ]
  },
  {
   "cell_type": "code",
   "execution_count": null,
   "metadata": {},
   "outputs": [],
   "source": [
    "def plt_results_scree(pickle_name, title):\n",
    "    \n",
    "    with open(pickle_name, 'rb') as f:\n",
    "        results_dict = pickle.load(f)\n",
    "        \n",
    "    xs = list(results_dict.keys())\n",
    "    rss = np.array([results_dict[x]['rss'] for x in xs])\n",
    "    evars = np.array([results_dict[x]['evar'] for x in xs])\n",
    "    sparsness = [results_dict[x]['sparseness'][0] for x in xs]\n",
    "\n",
    "    def rms(r):\n",
    "        return np.sqrt(np.mean(np.multiply(r,r)))\n",
    "    rmss = [rms(results_dict[x]['residuals']) for x in xs]\n",
    "    cophs = [results_dict[x]['cophenetic'] for x in xs]    \n",
    "    \n",
    "    if False:\n",
    "        for (n_components, sm) in results_dict.items():\n",
    "            print('Components: %d, Rss: %5.3f, Evar: %5.3f, Iterations: %d, Cophenetic correlation:%5.3f' % \n",
    "                  (n_components, sm['rss'], sm['evar'], sm['n_iter'], sm['cophenetic']))\n",
    "    \n",
    "    fig, ax1 = plt.subplots(figsize=(8,4))\n",
    "\n",
    "    color = 'tab:red'\n",
    "    ax1.set_xlabel('Components (K)')\n",
    "    ax1.set_ylabel('RMS error', color=color)\n",
    "    ax1.plot(xs, rmss, 'o-', color=color)\n",
    "    ax1.tick_params(axis='y', labelcolor=color)\n",
    "\n",
    "    ax2 = ax1.twinx()  # instantiate a second axes that shares the same x-axis\n",
    "\n",
    "    color = 'tab:blue'\n",
    "    ax2.set_ylabel('Cophenetic', color=color)  # we already handled the x-label with ax1\n",
    "    ax2.plot(xs, cophs, 'o-', color=color)\n",
    "    ax2.tick_params(axis='y', labelcolor=color)\n",
    "\n",
    "    fig.tight_layout() \n",
    "    \n",
    "    # plt.plot([18, 18], [0, 0.75], '--', color='tab:green')\n",
    "    plt.title(title)\n",
    "    plt.show() \n",
    "    \n",
    "plt_results_scree('Nmf.pkl', 'Second Scree plot for Nmf method')"
   ]
  },
  {
   "cell_type": "code",
   "execution_count": null,
   "metadata": {},
   "outputs": [],
   "source": [
    "plt_results_scree('std_nmf_results_dict.pkl', 'First Scree plot for Nmf method')\n",
    "plt_results_scree('Nmf.pkl', 'Second Scree plot for Nmf method')"
   ]
  },
  {
   "cell_type": "code",
   "execution_count": null,
   "metadata": {},
   "outputs": [],
   "source": [
    "plt_results_scree('lsnmf_results_dict.pkl', 'First Scree plot for Lsnmf method')\n",
    "plt_results_scree('Lsnmf.pkl', 'Second Scree plot for Lsnmf method')"
   ]
  },
  {
   "cell_type": "code",
   "execution_count": null,
   "metadata": {},
   "outputs": [],
   "source": [
    "plt_results_scree('bmf_results_dict.pkl', 'First Scree plot for Bmf method')\n",
    "plt_results_scree('Bmf.pkl', 'Second Scree plot for Bmf method')"
   ]
  },
  {
   "cell_type": "code",
   "execution_count": null,
   "metadata": {},
   "outputs": [],
   "source": [
    "with open('Nmf.pkl', 'rb') as f:\n",
    "    nmf_results = pickle.load(f)"
   ]
  },
  {
   "cell_type": "code",
   "execution_count": null,
   "metadata": {},
   "outputs": [],
   "source": [
    "k=14\n",
    "nmf_results[k].keys()"
   ]
  },
  {
   "cell_type": "code",
   "execution_count": null,
   "metadata": {},
   "outputs": [],
   "source": [
    "nmf_results[k]['sparseness']"
   ]
  },
  {
   "cell_type": "code",
   "execution_count": null,
   "metadata": {},
   "outputs": [],
   "source": [
    "nmf_results[k]['dispersion']"
   ]
  },
  {
   "cell_type": "code",
   "execution_count": null,
   "metadata": {},
   "outputs": [],
   "source": [
    "plt.imshow(nmf_results[k]['consensus'])\n",
    "plt.colorbar()\n",
    "plt.show()"
   ]
  },
  {
   "cell_type": "code",
   "execution_count": null,
   "metadata": {},
   "outputs": [],
   "source": [
    "plt.imshow(nmf_results[k]['connectivity'])\n",
    "plt.colorbar()\n",
    "plt.show()"
   ]
  },
  {
   "cell_type": "code",
   "execution_count": null,
   "metadata": {},
   "outputs": [],
   "source": [
    "plt.hist(nmf_results[k]['score_features'])\n",
    "plt.yscale('log')\n",
    "plt.show()"
   ]
  },
  {
   "cell_type": "code",
   "execution_count": null,
   "metadata": {},
   "outputs": [],
   "source": [
    "plt.figure(figsize=(8,10))\n",
    "plt.imshow(nmf_results[k]['residuals'][:3000,:], aspect=0.03)\n",
    "plt.colorbar()\n",
    "plt.show()"
   ]
  }
 ],
 "metadata": {
  "kernelspec": {
   "display_name": "Python [conda env:anaconda3]",
   "language": "python",
   "name": "conda-env-anaconda3-py"
  },
  "language_info": {
   "codemirror_mode": {
    "name": "ipython",
    "version": 3
   },
   "file_extension": ".py",
   "mimetype": "text/x-python",
   "name": "python",
   "nbconvert_exporter": "python",
   "pygments_lexer": "ipython3",
   "version": "3.6.6"
  }
 },
 "nbformat": 4,
 "nbformat_minor": 2
}
