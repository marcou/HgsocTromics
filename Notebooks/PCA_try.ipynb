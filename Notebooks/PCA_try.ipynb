{
 "cells": [
  {
   "cell_type": "code",
   "execution_count": null,
   "metadata": {},
   "outputs": [],
   "source": [
    "from os import path\n",
    "import numpy as np\n",
    "import pandas as pd\n",
    "import matplotlib.pyplot as plt\n",
    "from sklearn.decomposition import PCA\n",
    "import pickle"
   ]
  },
  {
   "cell_type": "code",
   "execution_count": null,
   "metadata": {},
   "outputs": [],
   "source": [
    "import warnings\n",
    "warnings.simplefilter(action='ignore', category=FutureWarning)\n"
   ]
  },
  {
   "cell_type": "code",
   "execution_count": null,
   "metadata": {},
   "outputs": [],
   "source": [
    "def example_V(n_genes=100):\n",
    "    # Generate example expression matrix, useful in tests\n",
    "    np.random.seed(0)\n",
    "    time = np.linspace(0, 8, n_genes)\n",
    "\n",
    "    s1 = np.sin(time) + 1.1  # Signal 1 : sinusoidal signal\n",
    "    s2 = np.sign(np.sin(3 * time)) + 1.1  # Signal 2: square signal\n",
    "    s3 = np.sin(2 * np.pi * time) + 1.1  # Signal 3: saw tooth signal\n",
    "    s4 = np.cos(0.5 * np.pi * time) + 1.1  # Signal 4: cosine\n",
    "    s5 = np.sin(0.2 * np.pi * time) + 1.1  # Signal 5: higher freq sine\n",
    "\n",
    "    W = np.c_[s1, s2, s3, s4, s5]\n",
    "    W += 0.1 * np.random.normal(size=W.shape)  # Add noise\n",
    "\n",
    "    W /= W.std(axis=0)  # Standardize data\n",
    "    # Mix data\n",
    "    H = np.array([[1, 1, 1, 1, 1], [0.5, 0/6, 1, 1.2, 1], [1.5, 1, 2, 1, 1.1],\n",
    "                 [1, 0.4, 1, 1.1, 0.1], [1, 0.2, 0.8, 1, 1.5]])  # Mixing matrix\n",
    "    V = np.dot(W, H.T)  # Generate observations\n",
    "    return V\n",
    "\n",
    "def test_example_V():\n",
    "    ngenes = 10\n",
    "    eg_V = example_V(ngenes)\n",
    "    # print(eg_V.shape)\n",
    "    # print(eg_V)\n",
    "    assert eg_V.shape == (10, 5)\n",
    "    assert np.all(eg_V >= 0)\n",
    "    print(\"test_example_V() passed.\")\n",
    "    \n",
    "test_example_V()"
   ]
  },
  {
   "cell_type": "code",
   "execution_count": null,
   "metadata": {},
   "outputs": [],
   "source": [
    "# Read in AOCS spreadsheet\n",
    "expression_df = pd.read_csv('../Data/HGSOC_Protein_Expression.csv', sep='\\t')\n",
    "\n",
    "assert len(expression_df) == 19730\n",
    "assert len(expression_df.columns == 80 + 1)\n",
    "assert expression_df.columns[0] == 'GeneENSG'\n",
    "assert expression_df.columns[-1] == 'AOCS_171'\n",
    "\n",
    "expression_matrix = np.asarray(expression_df.iloc[:,1:])\n",
    "\n",
    "print(expression_matrix.shape[0], \"genes\")\n",
    "print(expression_matrix.shape[1], \"patients\")"
   ]
  },
  {
   "cell_type": "code",
   "execution_count": null,
   "metadata": {},
   "outputs": [],
   "source": [
    "def test_Factorizer(facto, atol):\n",
    "    print(facto)\n",
    "    V = example_V(10)\n",
    "    nc = facto.n_components\n",
    "    \n",
    "    facto.fit(V)\n",
    "    \n",
    "    W = facto.get_W()\n",
    "    assert W.shape == (V.shape[0], nc)\n",
    "    \n",
    "    H = facto.get_H()\n",
    "    assert H.shape == (nc, V.shape[1])\n",
    "    \n",
    "    V2 = facto.get_recovered_V()\n",
    "    assert np.allclose(V, V2, atol=atol)\n",
    "        \n",
    "    print(\"test_Factorizer (%s) passed\" % type(facto).__name__)\n",
    "    "
   ]
  },
  {
   "cell_type": "code",
   "execution_count": null,
   "metadata": {},
   "outputs": [],
   "source": [
    "class PCA_Factorizer(PCA):\n",
    "    def __init__(self, n_components=None, max_iter=None, random_state=None):\n",
    "        PCA.__init__(self, n_components=n_components)\n",
    "        self.V = None\n",
    "        self.W = None\n",
    "        self.H = None\n",
    "        self.recovered_V = None\n",
    "        \n",
    "    def fit(self, V):\n",
    "        self.V = V\n",
    "        self.W = self.fit_transform(V)\n",
    "        \n",
    "    def get_W(self):\n",
    "        assert self.V is not None\n",
    "        if self.W is None:\n",
    "            self.W = self.fit_transform(self.V)\n",
    "        return self.W\n",
    "    \n",
    "    def get_H(self):\n",
    "        assert self.V is not None\n",
    "        if self.H is None:\n",
    "            self.H = self.components_\n",
    "        return self.H\n",
    "    \n",
    "    def get_recovered_V(self):\n",
    "        assert self.V is not None\n",
    "        if self.recovered_V is None:\n",
    "            W = self.get_W()\n",
    "            H = self.get_H()\n",
    "            self.recovered_V = np.dot(W,H) + self.mean_\n",
    "        return self.recovered_V\n",
    "\n",
    "\n",
    "test_Factorizer(PCA_Factorizer(n_components=4), atol=1) \n",
    "test_Factorizer(PCA_Factorizer(n_components=5), atol=0.001) "
   ]
  },
  {
   "cell_type": "code",
   "execution_count": null,
   "metadata": {},
   "outputs": [],
   "source": [
    "pca = PCA_Factorizer()\n",
    "V = expression_matrix\n",
    "pca.fit(V)"
   ]
  },
  {
   "cell_type": "code",
   "execution_count": null,
   "metadata": {},
   "outputs": [],
   "source": [
    "pca.explained_variance_"
   ]
  },
  {
   "cell_type": "code",
   "execution_count": null,
   "metadata": {},
   "outputs": [],
   "source": [
    "# Total variance is sum variances of each row\n",
    "total_var = np.sum([np.var(V[:,i]) for i in range(V.shape[1])])\n",
    "print(\"Sum of variance of all rows: %6.2f\" % total_var)\n",
    "print(\"Sum of the %d explained variances: %6.2f\" % (len(pca.explained_variance_), sum(pca.explained_variance_)))"
   ]
  },
  {
   "cell_type": "code",
   "execution_count": null,
   "metadata": {},
   "outputs": [],
   "source": [
    "plt.figure(figsize=(10,6))\n",
    "plt.plot(range(2,31), pca.explained_variance_[1:30] *100 /total_var, 'o-')\n",
    "plt.xlabel('Components (K)')\n",
    "plt.ylabel('% Explained variance')\n",
    "# plt.plot([6, 12], pca.explained_variance_[[5, 11]], 'o')\n",
    "plt.title(\"Scree plot for PCA variance explained\")\n",
    "plt.show()"
   ]
  }
 ],
 "metadata": {
  "kernelspec": {
   "display_name": "Python [conda env:anaconda3]",
   "language": "python",
   "name": "conda-env-anaconda3-py"
  },
  "language_info": {
   "codemirror_mode": {
    "name": "ipython",
    "version": 3
   },
   "file_extension": ".py",
   "mimetype": "text/x-python",
   "name": "python",
   "nbconvert_exporter": "python",
   "pygments_lexer": "ipython3",
   "version": "3.6.6"
  }
 },
 "nbformat": 4,
 "nbformat_minor": 2
}
