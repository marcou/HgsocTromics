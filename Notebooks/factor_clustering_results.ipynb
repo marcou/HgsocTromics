{
 "cells": [
  {
   "cell_type": "markdown",
   "metadata": {},
   "source": [
    "# Notebook to capture results of ICA/NMF factor clustering experiments"
   ]
  },
  {
   "cell_type": "code",
   "execution_count": null,
   "metadata": {},
   "outputs": [],
   "source": [
    "import matplotlib.pyplot as plt\n",
    "import sys\n",
    "%matplotlib inline"
   ]
  },
  {
   "cell_type": "code",
   "execution_count": null,
   "metadata": {},
   "outputs": [],
   "source": [
    "sys.path += ['../Src']"
   ]
  },
  {
   "cell_type": "code",
   "execution_count": null,
   "metadata": {},
   "outputs": [],
   "source": [
    "import importlib\n",
    "import factor_clustering\n",
    "importlib.reload(factor_clustering)\n",
    "from factor_clustering import FactorClustering\n",
    "from factorizer_wrappers import NMF_Factorizer, ICA_Factorizer, PCA_Factorizer"
   ]
  },
  {
   "cell_type": "markdown",
   "metadata": {},
   "source": [
    "## Perform multiple bootstrap repeat calculations of ICA, NMF and PCA and look at clustering"
   ]
  },
  {
   "cell_type": "code",
   "execution_count": null,
   "metadata": {},
   "outputs": [],
   "source": [
    "possible_datasets = {1: 'Mini_Expression', 2: 'AOCS_Protein_Expression', 3: 'TCGA_OV_VST'}\n",
    "\n",
    "fc = FactorClustering(possible_datasets[3], n_repeats=50, method='bootstrap')\n",
    "print(\"Starting analysis for\", fc.basename)\n",
    "print(\"Method:\", fc.method)\n",
    "\n",
    "fc.read_expression_matrix()\n",
    "\n",
    "all_factos = [NMF_Factorizer, ICA_Factorizer, PCA_Factorizer]"
   ]
  },
  {
   "cell_type": "code",
   "execution_count": null,
   "metadata": {},
   "outputs": [],
   "source": [
    "start_nc, end_nc = 2, 14"
   ]
  },
  {
   "cell_type": "code",
   "execution_count": null,
   "metadata": {},
   "outputs": [],
   "source": [
    "if True:\n",
    "    # Beware - this could take hours (for the full size dataset)!\n",
    "    fc.compute_and_cache_multiple_factor_repeats(start_nc, end_nc, force=False)"
   ]
  },
  {
   "cell_type": "code",
   "execution_count": null,
   "metadata": {},
   "outputs": [],
   "source": [
    "if True:\n",
    "    fc.plot_multiple_combined_factors_scatter(start_nc, end_nc)"
   ]
  },
  {
   "cell_type": "code",
   "execution_count": null,
   "metadata": {},
   "outputs": [],
   "source": [
    "if True:\n",
    "    fc.plot_silhouette_scores(start_nc, end_nc, show=True)  \n",
    "    "
   ]
  },
  {
   "cell_type": "code",
   "execution_count": null,
   "metadata": {},
   "outputs": [],
   "source": [
    "if True:\n",
    "    fc.plot_multiple_single_factors_scatter(NMF_Factorizer, start_nc, end_nc)"
   ]
  },
  {
   "cell_type": "code",
   "execution_count": null,
   "metadata": {},
   "outputs": [],
   "source": [
    "if True:\n",
    "    fc.plot_multiple_single_factors_scatter(ICA_Factorizer, start_nc, end_nc)"
   ]
  },
  {
   "cell_type": "code",
   "execution_count": null,
   "metadata": {},
   "outputs": [],
   "source": [
    "if True:\n",
    "    fc.plot_multiple_single_factors_scatter(PCA_Factorizer, start_nc, end_nc)"
   ]
  },
  {
   "cell_type": "code",
   "execution_count": null,
   "metadata": {},
   "outputs": [],
   "source": [
    "if False:\n",
    "    fc.investigate_multiple_cluster_statistics(start_nc, end_nc)"
   ]
  },
  {
   "cell_type": "code",
   "execution_count": null,
   "metadata": {},
   "outputs": [],
   "source": []
  }
 ],
 "metadata": {
  "kernelspec": {
   "display_name": "Python [conda env:anaconda3]",
   "language": "python",
   "name": "conda-env-anaconda3-py"
  },
  "language_info": {
   "codemirror_mode": {
    "name": "ipython",
    "version": 3
   },
   "file_extension": ".py",
   "mimetype": "text/x-python",
   "name": "python",
   "nbconvert_exporter": "python",
   "pygments_lexer": "ipython3",
   "version": "3.6.6"
  }
 },
 "nbformat": 4,
 "nbformat_minor": 2
}
