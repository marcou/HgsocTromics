{
 "cells": [
  {
   "cell_type": "code",
   "execution_count": null,
   "metadata": {},
   "outputs": [],
   "source": [
    "from goatools import obo_parser\n",
    "import gzip"
   ]
  },
  {
   "cell_type": "code",
   "execution_count": null,
   "metadata": {},
   "outputs": [],
   "source": [
    "go_obo = '../DownloadedResources/go-basic.obo'\n",
    "go = obo_parser.GODag(go_obo)"
   ]
  },
  {
   "cell_type": "code",
   "execution_count": null,
   "metadata": {},
   "outputs": [],
   "source": [
    "len(go)"
   ]
  },
  {
   "cell_type": "code",
   "execution_count": null,
   "metadata": {},
   "outputs": [],
   "source": [
    "go_id = 'GO:0048527'\n",
    "go_term = go[go_id]\n",
    "print(go_term.name, go_term.namespace)\n",
    "go_term"
   ]
  },
  {
   "cell_type": "code",
   "execution_count": null,
   "metadata": {},
   "outputs": [],
   "source": [
    "g = go_term\n",
    "while True:\n",
    "    print(g.name)\n",
    "    if len(g.parents) == 0:\n",
    "        break\n",
    "    g = list(g.parents)[0]\n",
    "    \n",
    "    "
   ]
  },
  {
   "cell_type": "code",
   "execution_count": null,
   "metadata": {},
   "outputs": [],
   "source": [
    "go_id2 = 'GO:0097192'\n",
    "rec = go[go_id2]\n",
    "lineage_png = '../Cache/' + go_id2 + '-lineage.png'"
   ]
  },
  {
   "cell_type": "code",
   "execution_count": null,
   "metadata": {},
   "outputs": [],
   "source": [
    "go.draw_lineage([rec], lineage_img=lineage_png)"
   ]
  },
  {
   "cell_type": "code",
   "execution_count": null,
   "metadata": {},
   "outputs": [],
   "source": [
    "from IPython.display import Image\n",
    "Image(lineage_png)"
   ]
  },
  {
   "cell_type": "code",
   "execution_count": null,
   "metadata": {},
   "outputs": [],
   "source": [
    "import Bio.UniProt.GOA as GOA"
   ]
  },
  {
   "cell_type": "code",
   "execution_count": null,
   "metadata": {},
   "outputs": [],
   "source": [
    "with gzip.open('../DownloadedResources/goa_human.gaf.gz', 'rt') as gaf:\n",
    "    funcs = {}\n",
    "    for entry in GOA.gafiterator(gaf):\n",
    "        uniprot_id = entry.pop('DB_Object_ID')\n",
    "        funcs[uniprot_id] = entry"
   ]
  },
  {
   "cell_type": "code",
   "execution_count": null,
   "metadata": {},
   "outputs": [],
   "source": [
    "list(funcs.items())[0]"
   ]
  },
  {
   "cell_type": "markdown",
   "metadata": {},
   "source": [
    "## Enrichment analysis"
   ]
  },
  {
   "cell_type": "code",
   "execution_count": null,
   "metadata": {},
   "outputs": [],
   "source": [
    "from goatools.go_enrichment import GOEnrichmentStudy"
   ]
  },
  {
   "cell_type": "code",
   "execution_count": null,
   "metadata": {},
   "outputs": [],
   "source": [
    "pop = funcs.keys()"
   ]
  },
  {
   "cell_type": "code",
   "execution_count": null,
   "metadata": {},
   "outputs": [],
   "source": [
    "assoc = {}\n",
    "for x in funcs:\n",
    "    if x not in assoc:\n",
    "        assoc[x] = set()\n",
    "    assoc[x].add(str(funcs[x]['GO_ID']))"
   ]
  },
  {
   "cell_type": "code",
   "execution_count": null,
   "metadata": {},
   "outputs": [],
   "source": [
    "max([len(assoc[x]) for x in assoc.keys()])"
   ]
  },
  {
   "cell_type": "code",
   "execution_count": null,
   "metadata": {},
   "outputs": [],
   "source": [
    "keyword = 'growth'\n",
    "growth_dict = {x: funcs[x]\n",
    "for x in funcs \n",
    "    if keyword in funcs[x]['DB_Object_Name']}"
   ]
  },
  {
   "cell_type": "code",
   "execution_count": null,
   "metadata": {},
   "outputs": [],
   "source": [
    "growth_dict.keys()"
   ]
  },
  {
   "cell_type": "code",
   "execution_count": null,
   "metadata": {},
   "outputs": [],
   "source": [
    "study = growth_dict.keys()"
   ]
  },
  {
   "cell_type": "code",
   "execution_count": null,
   "metadata": {},
   "outputs": [],
   "source": [
    "methods = [\"fdr\"]"
   ]
  },
  {
   "cell_type": "code",
   "execution_count": null,
   "metadata": {},
   "outputs": [],
   "source": [
    "g = GOEnrichmentStudy(pop, assoc, go,\n",
    "                         propagate_counts=True,\n",
    "                         alpha=0.05,\n",
    "                         methods=methods)\n",
    "g_res = g.run_study(study)"
   ]
  },
  {
   "cell_type": "markdown",
   "metadata": {},
   "source": [
    "## Human"
   ]
  },
  {
   "cell_type": "code",
   "execution_count": null,
   "metadata": {},
   "outputs": [],
   "source": [
    "with gzip.open('../DownloadedResources/goa_human.gaf.gz', 'rt') as gaf:\n",
    "    human_funcs = {}\n",
    "    for entry in GOA.gafiterator(gaf):\n",
    "        if go[entry['GO_ID']].namespace == 'biological_process':\n",
    "            symbol = entry.pop('DB_Object_Symbol')\n",
    "            human_funcs[symbol] = entry"
   ]
  },
  {
   "cell_type": "code",
   "execution_count": null,
   "metadata": {},
   "outputs": [],
   "source": [
    "pop = human_funcs.keys()"
   ]
  },
  {
   "cell_type": "code",
   "execution_count": null,
   "metadata": {},
   "outputs": [],
   "source": [
    "[go[human_funcs[k]['GO_ID']].children for k in list(pop)[:3]]"
   ]
  },
  {
   "cell_type": "code",
   "execution_count": null,
   "metadata": {},
   "outputs": [],
   "source": [
    "len(pop)"
   ]
  },
  {
   "cell_type": "code",
   "execution_count": null,
   "metadata": {},
   "outputs": [],
   "source": [
    "for k in list(human_funcs)[:10]:\n",
    "    print(go[human_funcs[k]['GO_ID']].namespace)"
   ]
  },
  {
   "cell_type": "code",
   "execution_count": null,
   "metadata": {},
   "outputs": [],
   "source": [
    "assoc = {}\n",
    "for x in human_funcs:\n",
    "    if x not in assoc:\n",
    "        assoc[x] = set()\n",
    "    assoc[x].add(str(human_funcs[x]['GO_ID']))"
   ]
  },
  {
   "cell_type": "code",
   "execution_count": null,
   "metadata": {},
   "outputs": [],
   "source": [
    "for gid in assoc['CXCL9']:\n",
    "    print(go[gid])"
   ]
  },
  {
   "cell_type": "code",
   "execution_count": null,
   "metadata": {},
   "outputs": [],
   "source": [
    "study0 = ['IGLL5', 'CXCL9', 'JCHAIN', 'UBD', 'ADAMDEC1', 'CXCL10', 'CXCL13', 'CXCL11', 'MZB1', 'HP', 'CD2', 'SLAMF7', 'GBP5', 'CD38', 'OR2I1P', 'PLA2G2D', 'CCL19', 'HOXD1', 'CSAG3', 'HLA-DQA1']\n",
    "study1 = ['SFRP2', 'POSTN', 'EPYC', 'COL11A1', 'LRRC15', 'ADH1B', 'COL10A1', 'STAR', 'FAP', 'COMP', 'GREM1', 'FABP4', 'LUM', 'INHBA', 'TENM3', 'MMP11', 'NR5A1', 'ITGBL1', 'CXCL14', 'NTM']"
   ]
  },
  {
   "cell_type": "code",
   "execution_count": null,
   "metadata": {},
   "outputs": [],
   "source": [
    "g = GOEnrichmentStudy(pop, assoc, go,\n",
    "                         propagate_counts=True,\n",
    "                         alpha=0.05,\n",
    "                         methods=[\"fdr\"])\n",
    "g_res = g.run_study(study0)"
   ]
  },
  {
   "cell_type": "code",
   "execution_count": null,
   "metadata": {},
   "outputs": [],
   "source": [
    "import sys\n",
    "with open('../Cache/goa_results.tsv', 'w') as f:\n",
    "    g.prt_tsv(f, g_res)"
   ]
  },
  {
   "cell_type": "code",
   "execution_count": null,
   "metadata": {},
   "outputs": [],
   "source": [
    "## Synthetic"
   ]
  },
  {
   "cell_type": "code",
   "execution_count": null,
   "metadata": {},
   "outputs": [],
   "source": [
    "pop = [str(chr(c)) for c in range(ord('a'), ord('z'))]"
   ]
  },
  {
   "cell_type": "code",
   "execution_count": null,
   "metadata": {},
   "outputs": [],
   "source": [
    "assoc1 = {k:set(['GO:0090718']) for k in pop[:10]}\n",
    "assoc2 = {k:set(['GO:0002459']) for k in pop[10:]}\n",
    "assoc = {**assoc1, **assoc2}"
   ]
  },
  {
   "cell_type": "code",
   "execution_count": null,
   "metadata": {},
   "outputs": [],
   "source": [
    "assoc"
   ]
  },
  {
   "cell_type": "code",
   "execution_count": null,
   "metadata": {},
   "outputs": [],
   "source": [
    "assoc['a']"
   ]
  },
  {
   "cell_type": "code",
   "execution_count": null,
   "metadata": {},
   "outputs": [],
   "source": [
    "study=['a','b','c','d','e', 'f', 'g']"
   ]
  },
  {
   "cell_type": "code",
   "execution_count": null,
   "metadata": {},
   "outputs": [],
   "source": [
    "g = GOEnrichmentStudy(pop, assoc, go,\n",
    "                         propagate_counts=True,\n",
    "                         alpha=0.05,\n",
    "                         methods=[\"fdr\"])\n",
    "g_res = g.run_study(study)"
   ]
  },
  {
   "cell_type": "code",
   "execution_count": null,
   "metadata": {},
   "outputs": [],
   "source": [
    "g_res"
   ]
  },
  {
   "cell_type": "code",
   "execution_count": null,
   "metadata": {},
   "outputs": [],
   "source": []
  }
 ],
 "metadata": {
  "kernelspec": {
   "display_name": "Python [conda env:anaconda3]",
   "language": "python",
   "name": "conda-env-anaconda3-py"
  },
  "language_info": {
   "codemirror_mode": {
    "name": "ipython",
    "version": 3
   },
   "file_extension": ".py",
   "mimetype": "text/x-python",
   "name": "python",
   "nbconvert_exporter": "python",
   "pygments_lexer": "ipython3",
   "version": "3.6.6"
  }
 },
 "nbformat": 4,
 "nbformat_minor": 2
}
