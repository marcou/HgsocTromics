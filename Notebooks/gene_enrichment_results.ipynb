{
 "cells": [
  {
   "cell_type": "markdown",
   "metadata": {},
   "source": [
    "# Gene enrichment analysis by metagenes (factors) found by FactorClustering"
   ]
  },
  {
   "cell_type": "code",
   "execution_count": null,
   "metadata": {},
   "outputs": [],
   "source": [
    "import matplotlib.pyplot as plt\n",
    "import sys\n",
    "import numpy as np\n",
    "%matplotlib inline"
   ]
  },
  {
   "cell_type": "code",
   "execution_count": null,
   "metadata": {},
   "outputs": [],
   "source": [
    "sys.path += ['../Src']"
   ]
  },
  {
   "cell_type": "code",
   "execution_count": null,
   "metadata": {},
   "outputs": [],
   "source": [
    "import importlib\n",
    "import gene_enrichment\n",
    "importlib.reload(gene_enrichment)\n",
    "from gene_enrichment import GeneEnrichment\n",
    "from factorizer_wrappers import NMF_Factorizer, ICA_Factorizer, PCA_Factorizer"
   ]
  },
  {
   "cell_type": "code",
   "execution_count": null,
   "metadata": {},
   "outputs": [],
   "source": [
    "ge = GeneEnrichment('TCGA_OV_VST', 'gash')\n",
    "metagenes = ge.read_metagene_matrix('NMF_median_factor_5.csv')"
   ]
  },
  {
   "cell_type": "code",
   "execution_count": null,
   "metadata": {},
   "outputs": [],
   "source": [
    "plt.hist(np.ravel(metagenes[:,2]), bins=50)\n",
    "plt.show()"
   ]
  },
  {
   "cell_type": "code",
   "execution_count": null,
   "metadata": {},
   "outputs": [],
   "source": [
    "ge.investigate_rank_threshold(metagenes)"
   ]
  },
  {
   "cell_type": "code",
   "execution_count": null,
   "metadata": {},
   "outputs": [],
   "source": [
    "ge = GeneEnrichment('TCGA_OV_VST', 'NMF_3')\n",
    "metagenes = ge.read_metagene_matrix('NMF_median_factor_3.csv')\n",
    "ge.perform_gene_enrichment_analysis(metagenes, method='fdr')"
   ]
  },
  {
   "cell_type": "code",
   "execution_count": null,
   "metadata": {},
   "outputs": [],
   "source": [
    "ge = GeneEnrichment('TCGA_OV_VST', 'ICA_3')\n",
    "metagenes = ge.read_metagene_matrix('ICA_median_factor_3.csv')\n",
    "ge.perform_gene_enrichment_analysis(metagenes, method='fdr')"
   ]
  },
  {
   "cell_type": "code",
   "execution_count": null,
   "metadata": {},
   "outputs": [],
   "source": [
    "ge = GeneEnrichment('TCGA_OV_VST', 'PCA_3')\n",
    "metagenes = ge.read_metagene_matrix('PCA_median_factor_3.csv')\n",
    "ge.perform_gene_enrichment_analysis(metagenes, method='fdr')"
   ]
  },
  {
   "cell_type": "code",
   "execution_count": null,
   "metadata": {},
   "outputs": [],
   "source": []
  }
 ],
 "metadata": {
  "kernelspec": {
   "display_name": "Python [conda env:anaconda3]",
   "language": "python",
   "name": "conda-env-anaconda3-py"
  },
  "language_info": {
   "codemirror_mode": {
    "name": "ipython",
    "version": 3
   },
   "file_extension": ".py",
   "mimetype": "text/x-python",
   "name": "python",
   "nbconvert_exporter": "python",
   "pygments_lexer": "ipython3",
   "version": "3.6.6"
  }
 },
 "nbformat": 4,
 "nbformat_minor": 2
}
