{
 "cells": [
  {
   "cell_type": "code",
   "execution_count": 6,
   "metadata": {},
   "outputs": [],
   "source": [
    "from factorizer_wrappers import ICA_Factorizer, NMF_Factorizer, PCA_Factorizer\n",
    "from factorizer_wrappers import example_V, test_example_V, test_Factorizer"
   ]
  },
  {
   "cell_type": "code",
   "execution_count": 9,
   "metadata": {},
   "outputs": [
    {
     "name": "stdout",
     "output_type": "stream",
     "text": [
      "test_example_V() passed.\n",
      "ICA_Factorizer(n_components=4)\n",
      "test_Factorizer (ICA_Factorizer) passed\n",
      "ICA_Factorizer(n_components=5)\n",
      "test_Factorizer (ICA_Factorizer) passed\n",
      "NMF_Factorizer(n_components=4)\n",
      "test_Factorizer (NMF_Factorizer) passed\n",
      "NMF_Factorizer(n_components=5)\n",
      "test_Factorizer (NMF_Factorizer) passed\n",
      "PCA_Factorizer(n_components=4)\n",
      "test_Factorizer (PCA_Factorizer) passed\n",
      "PCA_Factorizer(n_components=5)\n",
      "test_Factorizer (PCA_Factorizer) passed\n"
     ]
    }
   ],
   "source": [
    "test_example_V()\n",
    "\n",
    "test_Factorizer(ICA_Factorizer(n_components=4), atol=0.5) \n",
    "test_Factorizer(ICA_Factorizer(n_components=5), atol=0.001) \n",
    "\n",
    "test_Factorizer(NMF_Factorizer(n_components=4), atol=0.5) \n",
    "test_Factorizer(NMF_Factorizer(n_components=5), atol=0.001) \n",
    "\n",
    "test_Factorizer(PCA_Factorizer(n_components=4), atol=0.5) \n",
    "test_Factorizer(PCA_Factorizer(n_components=5), atol=0.001) "
   ]
  },
  {
   "cell_type": "code",
   "execution_count": null,
   "metadata": {},
   "outputs": [],
   "source": []
  }
 ],
 "metadata": {
  "kernelspec": {
   "display_name": "Python [conda env:anaconda3]",
   "language": "python",
   "name": "conda-env-anaconda3-py"
  },
  "language_info": {
   "codemirror_mode": {
    "name": "ipython",
    "version": 3
   },
   "file_extension": ".py",
   "mimetype": "text/x-python",
   "name": "python",
   "nbconvert_exporter": "python",
   "pygments_lexer": "ipython3",
   "version": "3.6.6"
  }
 },
 "nbformat": 4,
 "nbformat_minor": 2
}
