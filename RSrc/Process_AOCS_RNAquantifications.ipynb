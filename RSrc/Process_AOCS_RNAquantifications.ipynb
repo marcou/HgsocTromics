{
 "cells": [
  {
   "cell_type": "markdown",
   "metadata": {},
   "source": [
    "**Process RNAseq quantifications from AOCS**"
   ]
  },
  {
   "cell_type": "markdown",
   "metadata": {},
   "source": [
    "Transcript level RNAseq quantifications for AOCS (N=80) were aggregated to gene level, normalised (VST) and adjusted for tumour cellularity. Resultant matrix is variance stabilising transformed counts per gene per sample."
   ]
  },
  {
   "cell_type": "code",
   "execution_count": null,
   "metadata": {
    "collapsed": true
   },
   "outputs": [],
   "source": [
    "setwd(\"/Volumes/igmm/semple-lab/ianP/RNAseq_quantifications/\")\n",
    "files_aocs<-dir(\"AOCS\",pattern=\"quant.sf\",recursive = T,full.names = TRUE)\n",
    "rna_reps_to_exclude<-read.table(\"Paths_RNAexclusions.txt\",sep=\"\\t\")\n",
    "rna_reps_to_exclude<-as.character(rna_reps_to_exclude[,1])\n",
    "\n",
    "new_files_orig<-setdiff(files_aocs,rna_reps_to_exclude)\n",
    "\n",
    "tx2knownGene <- read.csv(\"tx2gene.csv\",header = F)\n",
    "\n",
    "names(new_files_orig)<-do.call(\"cbind\",strsplit(new_files_orig,split = \"[/.]\"))[2,]\n",
    "txi.salmon <- tximport(new_files_orig, type = \"salmon\", tx2gene = tx2knownGene)"
   ]
  },
  {
   "cell_type": "code",
   "execution_count": null,
   "metadata": {
    "collapsed": true
   },
   "outputs": [],
   "source": [
    "sample<-read.table(\"Tumour_cellularity_estimates.txt\",sep=\"\\t\",header=T,stringsAsFactors=F)\n",
    "sample_expr<-sample[,c(\"Sample\",\"Purity\")]\n",
    "\n",
    "rna_sampleids<-colnames(head(txi.salmon$counts))\n",
    "rna_short_sampleids<-rep(NA,length(rna_sampleids))\n",
    "rna_short_sampleids<-substr(rna_sampleids,1,8)\n",
    "\n",
    "rna<-data.frame(RNA_sample=rna_sampleids,Sample=rna_short_sampleids)\n",
    "rna<-rna[as.character(rna$Sample) %in% as.character(sample_expr$Sample),]\n",
    "\n",
    "coldata<-merge(rna,sample_expr,by=\"Sample\",all.x=T)\n",
    "\n",
    "rownames(coldata)<-as.character(coldata$RNA_sample)\n",
    "coldata<-coldata[as.character(rna$RNA_sample),]\n",
    "rownames(coldata)<-c(1:80)\n",
    "\n",
    "dds_correct <- DESeqDataSetFromTximport(txi.salmon, \n",
    "                               colData = coldata,\n",
    "                                design=~Purity)\n",
    "\n",
    "dds_correct <- DESeq(dds_correct)\n",
    "vsd <- vst(dds_correct , blind=FALSE)"
   ]
  },
  {
   "cell_type": "code",
   "execution_count": null,
   "metadata": {
    "collapsed": true
   },
   "outputs": [],
   "source": [
    "all_vsd<-assay(vsd)\n",
    "colnames(all_vsd)<-coldata$Sample\n",
    "write.table(all_vsd,file=\"AOCS/AOCS_TPM_VST.txt\",sep=\"\\t\",quote=F)"
   ]
  }
 ],
 "metadata": {
  "kernelspec": {
   "display_name": "R",
   "language": "R",
   "name": "ir"
  },
  "language_info": {
   "codemirror_mode": "r",
   "file_extension": ".r",
   "mimetype": "text/x-r-source",
   "name": "R",
   "pygments_lexer": "r",
   "version": "3.6.0"
  },
  "toc": {
   "nav_menu": {},
   "number_sections": false,
   "sideBar": true,
   "skip_h1_title": false,
   "toc_cell": false,
   "toc_position": {},
   "toc_section_display": "block",
   "toc_window_display": false
  }
 },
 "nbformat": 4,
 "nbformat_minor": 2
}
